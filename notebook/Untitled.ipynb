{
 "cells": [
  {
   "cell_type": "code",
   "execution_count": 7,
   "metadata": {},
   "outputs": [],
   "source": [
    "import pandas as pd"
   ]
  },
  {
   "cell_type": "code",
   "execution_count": 17,
   "metadata": {},
   "outputs": [],
   "source": [
    "data=pd.read_csv(\"../data/data1.csv\")\n",
    "df=data[[\"Name \",\"Roll\",\"310241 TOC\",\"310242 DBMS\",\"310243 SEPM\",\"310244 ISEE\",\"310245 CN\",\"Theory Attendance %\"]]\n",
    "df=df.dropna()\n",
    "roll=[]\n",
    "for i in range(1,76):\n",
    "    roll.append(i)\n",
    "\n",
    "df[\"roll_no\"]=roll\n",
    "df.to_csv(\"../data/A.csv\")"
   ]
  },
  {
   "cell_type": "code",
   "execution_count": 15,
   "metadata": {},
   "outputs": [
    {
     "data": {
      "text/html": [
       "<div>\n",
       "<style scoped>\n",
       "    .dataframe tbody tr th:only-of-type {\n",
       "        vertical-align: middle;\n",
       "    }\n",
       "\n",
       "    .dataframe tbody tr th {\n",
       "        vertical-align: top;\n",
       "    }\n",
       "\n",
       "    .dataframe thead th {\n",
       "        text-align: right;\n",
       "    }\n",
       "</style>\n",
       "<table border=\"1\" class=\"dataframe\">\n",
       "  <thead>\n",
       "    <tr style=\"text-align: right;\">\n",
       "      <th></th>\n",
       "      <th>Name</th>\n",
       "      <th>Roll</th>\n",
       "      <th>310241 TOC</th>\n",
       "      <th>310242 DBMS</th>\n",
       "      <th>310243 SEPM</th>\n",
       "      <th>310244 ISEE</th>\n",
       "      <th>310245 CN</th>\n",
       "      <th>Theory Attendance %</th>\n",
       "      <th>roll_no</th>\n",
       "    </tr>\n",
       "  </thead>\n",
       "  <tbody>\n",
       "    <tr>\n",
       "      <th>1</th>\n",
       "      <td>AGRAWAL SAURABH VISHNU</td>\n",
       "      <td>3202001.0</td>\n",
       "      <td>1</td>\n",
       "      <td>2</td>\n",
       "      <td>0</td>\n",
       "      <td>0</td>\n",
       "      <td>0</td>\n",
       "      <td>5.17</td>\n",
       "      <td>1</td>\n",
       "    </tr>\n",
       "    <tr>\n",
       "      <th>2</th>\n",
       "      <td>AHIRE TANMAY SHIVPRASAD</td>\n",
       "      <td>3202002.0</td>\n",
       "      <td>4</td>\n",
       "      <td>11</td>\n",
       "      <td>10</td>\n",
       "      <td>1</td>\n",
       "      <td>7</td>\n",
       "      <td>56.90</td>\n",
       "      <td>2</td>\n",
       "    </tr>\n",
       "    <tr>\n",
       "      <th>3</th>\n",
       "      <td>AKHADE VINAYA SHANKAR</td>\n",
       "      <td>3202003.0</td>\n",
       "      <td>11</td>\n",
       "      <td>18</td>\n",
       "      <td>13</td>\n",
       "      <td>3</td>\n",
       "      <td>8</td>\n",
       "      <td>91.38</td>\n",
       "      <td>3</td>\n",
       "    </tr>\n",
       "    <tr>\n",
       "      <th>4</th>\n",
       "      <td>AKHIL APPASO SHINDE</td>\n",
       "      <td>3202004.0</td>\n",
       "      <td>6</td>\n",
       "      <td>16</td>\n",
       "      <td>13</td>\n",
       "      <td>1</td>\n",
       "      <td>7</td>\n",
       "      <td>74.14</td>\n",
       "      <td>4</td>\n",
       "    </tr>\n",
       "    <tr>\n",
       "      <th>5</th>\n",
       "      <td>ALONDRA MILAP MITESH</td>\n",
       "      <td>3202005.0</td>\n",
       "      <td>0</td>\n",
       "      <td>3</td>\n",
       "      <td>1</td>\n",
       "      <td>0</td>\n",
       "      <td>0</td>\n",
       "      <td>6.90</td>\n",
       "      <td>5</td>\n",
       "    </tr>\n",
       "  </tbody>\n",
       "</table>\n",
       "</div>"
      ],
      "text/plain": [
       "                     Name        Roll  310241 TOC  310242 DBMS  310243 SEPM  \\\n",
       "1   AGRAWAL SAURABH VISHNU  3202001.0           1            2            0   \n",
       "2  AHIRE TANMAY SHIVPRASAD  3202002.0           4           11           10   \n",
       "3    AKHADE VINAYA SHANKAR  3202003.0          11           18           13   \n",
       "4      AKHIL APPASO SHINDE  3202004.0           6           16           13   \n",
       "5     ALONDRA MILAP MITESH  3202005.0           0            3            1   \n",
       "\n",
       "   310244 ISEE  310245 CN  Theory Attendance %  roll_no  \n",
       "1            0          0                 5.17        1  \n",
       "2            1          7                56.90        2  \n",
       "3            3          8                91.38        3  \n",
       "4            1          7                74.14        4  \n",
       "5            0          0                 6.90        5  "
      ]
     },
     "execution_count": 15,
     "metadata": {},
     "output_type": "execute_result"
    }
   ],
   "source": [
    "df.head()"
   ]
  },
  {
   "cell_type": "code",
   "execution_count": 93,
   "metadata": {},
   "outputs": [
    {
     "data": {
      "text/plain": [
       "(75, 8)"
      ]
     },
     "execution_count": 93,
     "metadata": {},
     "output_type": "execute_result"
    }
   ],
   "source": [
    "df.shape"
   ]
  },
  {
   "cell_type": "code",
   "execution_count": 97,
   "metadata": {},
   "outputs": [],
   "source": []
  },
  {
   "cell_type": "code",
   "execution_count": 98,
   "metadata": {},
   "outputs": [
    {
     "data": {
      "text/html": [
       "<div>\n",
       "<style scoped>\n",
       "    .dataframe tbody tr th:only-of-type {\n",
       "        vertical-align: middle;\n",
       "    }\n",
       "\n",
       "    .dataframe tbody tr th {\n",
       "        vertical-align: top;\n",
       "    }\n",
       "\n",
       "    .dataframe thead th {\n",
       "        text-align: right;\n",
       "    }\n",
       "</style>\n",
       "<table border=\"1\" class=\"dataframe\">\n",
       "  <thead>\n",
       "    <tr style=\"text-align: right;\">\n",
       "      <th></th>\n",
       "      <th>Name</th>\n",
       "      <th>Roll</th>\n",
       "      <th>310241 TOC</th>\n",
       "      <th>310242 DBMS</th>\n",
       "      <th>310243 SEPM</th>\n",
       "      <th>310244 ISEE</th>\n",
       "      <th>310245 CN</th>\n",
       "      <th>Theory Attendance %</th>\n",
       "      <th>roll_no</th>\n",
       "    </tr>\n",
       "  </thead>\n",
       "  <tbody>\n",
       "    <tr>\n",
       "      <th>1</th>\n",
       "      <td>ADSUL SURAJ NAVNATH</td>\n",
       "      <td>3101001.0</td>\n",
       "      <td>1</td>\n",
       "      <td>2</td>\n",
       "      <td>2</td>\n",
       "      <td>1</td>\n",
       "      <td>1</td>\n",
       "      <td>12.07</td>\n",
       "      <td>1</td>\n",
       "    </tr>\n",
       "    <tr>\n",
       "      <th>2</th>\n",
       "      <td>ANAND PATIDAR</td>\n",
       "      <td>3101002.0</td>\n",
       "      <td>1</td>\n",
       "      <td>5</td>\n",
       "      <td>4</td>\n",
       "      <td>0</td>\n",
       "      <td>1</td>\n",
       "      <td>18.97</td>\n",
       "      <td>2</td>\n",
       "    </tr>\n",
       "    <tr>\n",
       "      <th>3</th>\n",
       "      <td>ANIKET KISAN CHAVAN</td>\n",
       "      <td>3101003.0</td>\n",
       "      <td>1</td>\n",
       "      <td>5</td>\n",
       "      <td>0</td>\n",
       "      <td>0</td>\n",
       "      <td>0</td>\n",
       "      <td>10.34</td>\n",
       "      <td>3</td>\n",
       "    </tr>\n",
       "    <tr>\n",
       "      <th>4</th>\n",
       "      <td>ANIKET RAJENDRA THORAT</td>\n",
       "      <td>3101004.0</td>\n",
       "      <td>0</td>\n",
       "      <td>18</td>\n",
       "      <td>13</td>\n",
       "      <td>2</td>\n",
       "      <td>5</td>\n",
       "      <td>65.52</td>\n",
       "      <td>4</td>\n",
       "    </tr>\n",
       "    <tr>\n",
       "      <th>5</th>\n",
       "      <td>APTE NAHUSH SHRINIVAS</td>\n",
       "      <td>3101005.0</td>\n",
       "      <td>9</td>\n",
       "      <td>20</td>\n",
       "      <td>13</td>\n",
       "      <td>2</td>\n",
       "      <td>3</td>\n",
       "      <td>81.03</td>\n",
       "      <td>5</td>\n",
       "    </tr>\n",
       "  </tbody>\n",
       "</table>\n",
       "</div>"
      ],
      "text/plain": [
       "                    Name        Roll  310241 TOC  310242 DBMS  310243 SEPM  \\\n",
       "1     ADSUL SURAJ NAVNATH  3101001.0           1            2            2   \n",
       "2           ANAND PATIDAR  3101002.0           1            5            4   \n",
       "3     ANIKET KISAN CHAVAN  3101003.0           1            5            0   \n",
       "4  ANIKET RAJENDRA THORAT  3101004.0           0           18           13   \n",
       "5   APTE NAHUSH SHRINIVAS  3101005.0           9           20           13   \n",
       "\n",
       "   310244 ISEE  310245 CN  Theory Attendance %  roll_no  \n",
       "1            1          1                12.07        1  \n",
       "2            0          1                18.97        2  \n",
       "3            0          0                10.34        3  \n",
       "4            2          5                65.52        4  \n",
       "5            2          3                81.03        5  "
      ]
     },
     "execution_count": 98,
     "metadata": {},
     "output_type": "execute_result"
    }
   ],
   "source": [
    "df.head()"
   ]
  },
  {
   "cell_type": "code",
   "execution_count": 115,
   "metadata": {},
   "outputs": [],
   "source": [
    "data=df.loc[df[\"roll_no\"]==4]\n",
    "if data[\"310244 ISEE\"].values[0] > 50:\n",
    "    message=\"power attendace\"\n",
    "elif data[\"310244 ISEE\"].values[0] < 50 and data[\"310244 ISEE\"].values[0] > 75:\n",
    "    message=\"you must have 75 % to grant your semester\"\n",
    "elif data[\"310244 ISEE\"].values[0] < 75 and data[\"310244 ISEE\"].values[0] > 80:\n",
    "    message=\"good attendance\"\n",
    "elif data[\"310244 ISEE\"].values[0] < 80:\n",
    "    message=\"exelent attendace\""
   ]
  },
  {
   "cell_type": "code",
   "execution_count": 116,
   "metadata": {},
   "outputs": [],
   "source": [
    "result={\n",
    "    \"Name\":data[\"Name \"].values[0],\n",
    "    \"RollNo\":int(data[\"Roll\"].values[0]),\n",
    "    \"TOC\":data[\"310241 TOC\"].values[0],\n",
    "    \"DBMS\":data[\"310242 DBMS\"].values[0],\n",
    "    \"SEPM\":data[\"310243 SEPM\"].values[0],\n",
    "    \"ISEE\":data[\"310244 ISEE\"].values[0],\n",
    "    \"Attendance\":data[\"Theory Attendance %\"].values[0]\n",
    "}"
   ]
  },
  {
   "cell_type": "code",
   "execution_count": 112,
   "metadata": {},
   "outputs": [
    {
     "data": {
      "text/plain": [
       "{'Name': 'ANIKET RAJENDRA THORAT',\n",
       " 'RollNo': 3101004,\n",
       " 'TOC': 0,\n",
       " 'DBMS': 18,\n",
       " 'SEPM': 13,\n",
       " 'ISEE': 2,\n",
       " 'Attendance': 65.52}"
      ]
     },
     "execution_count": 112,
     "metadata": {},
     "output_type": "execute_result"
    }
   ],
   "source": [
    "result"
   ]
  },
  {
   "cell_type": "code",
   "execution_count": 113,
   "metadata": {},
   "outputs": [],
   "source": [
    "a=data[\"310241 TOC\"].values[0]"
   ]
  },
  {
   "cell_type": "code",
   "execution_count": 133,
   "metadata": {},
   "outputs": [
    {
     "data": {
      "text/plain": [
       "'good attendance'"
      ]
     },
     "execution_count": 133,
     "metadata": {},
     "output_type": "execute_result"
    }
   ],
   "source": [
    "message"
   ]
  },
  {
   "cell_type": "code",
   "execution_count": 144,
   "metadata": {},
   "outputs": [],
   "source": [
    "data=81\n",
    "if data < 50:\n",
    "    message=\"power attendace\"\n",
    "elif data >= 50 and data < 74:\n",
    "    message=\"you must have 75 % to grant your semester\"\n",
    "elif data >= 75 and data < 79:\n",
    "    message=\"good attendance\"\n",
    "elif data > 80:\n",
    "    message=\"exelent attendace\""
   ]
  },
  {
   "cell_type": "code",
   "execution_count": 145,
   "metadata": {},
   "outputs": [
    {
     "data": {
      "text/plain": [
       "'exelent attendace'"
      ]
     },
     "execution_count": 145,
     "metadata": {},
     "output_type": "execute_result"
    }
   ],
   "source": [
    "message"
   ]
  },
  {
   "cell_type": "code",
   "execution_count": null,
   "metadata": {},
   "outputs": [],
   "source": []
  }
 ],
 "metadata": {
  "kernelspec": {
   "display_name": "Python 3",
   "language": "python",
   "name": "python3"
  },
  "language_info": {
   "codemirror_mode": {
    "name": "ipython",
    "version": 3
   },
   "file_extension": ".py",
   "mimetype": "text/x-python",
   "name": "python",
   "nbconvert_exporter": "python",
   "pygments_lexer": "ipython3",
   "version": "3.7.6"
  }
 },
 "nbformat": 4,
 "nbformat_minor": 4
}
